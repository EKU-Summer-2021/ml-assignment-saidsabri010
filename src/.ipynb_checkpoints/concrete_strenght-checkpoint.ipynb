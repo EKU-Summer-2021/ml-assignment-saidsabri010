{
 "cells": [
  {
   "cell_type": "code",
   "execution_count": 2,
   "metadata": {
    "pycharm": {
     "is_executing": true
    }
   },
   "outputs": [],
   "source": [
    "import pandas as pd"
   ]
  },
  {
   "cell_type": "code",
   "execution_count": 3,
   "metadata": {
    "pycharm": {
     "is_executing": true
    }
   },
   "outputs": [],
   "source": [
    "df = pd.read_csv('https://raw.githubusercontent.com/saidsabri010/dataset/main/Concrete_Data_Yeh.csv')"
   ]
  },
  {
   "cell_type": "code",
   "execution_count": 5,
   "metadata": {},
   "outputs": [
    {
     "ename": "TypeError",
     "evalue": "'tuple' object is not callable",
     "output_type": "error",
     "traceback": [
      "\u001b[1;31m---------------------------------------------------------------------------\u001b[0m",
      "\u001b[1;31mTypeError\u001b[0m                                 Traceback (most recent call last)",
      "\u001b[1;32m~\\AppData\\Local\\Temp/ipykernel_9840/1472378890.py\u001b[0m in \u001b[0;36m<module>\u001b[1;34m\u001b[0m\n\u001b[1;32m----> 1\u001b[1;33m \u001b[0mdf\u001b[0m\u001b[1;33m.\u001b[0m\u001b[0mshape\u001b[0m\u001b[1;33m(\u001b[0m\u001b[1;33m)\u001b[0m\u001b[1;33m\u001b[0m\u001b[1;33m\u001b[0m\u001b[0m\n\u001b[0m",
      "\u001b[1;31mTypeError\u001b[0m: 'tuple' object is not callable"
     ]
    }
   ],
   "source": [
    "df.shape()"
   ]
  },
  {
   "cell_type": "code",
   "execution_count": 25,
   "metadata": {},
   "outputs": [],
   "source": [
    "X = df[['cement','slag','flyash','water','superplasticizer','coarseaggregate','fineaggregate','age']]\n",
    "y = df['csMPa']"
   ]
  },
  {
   "cell_type": "code",
   "execution_count": 17,
   "metadata": {},
   "outputs": [
    {
     "data": {
      "text/html": [
       "<div>\n",
       "<style scoped>\n",
       "    .dataframe tbody tr th:only-of-type {\n",
       "        vertical-align: middle;\n",
       "    }\n",
       "\n",
       "    .dataframe tbody tr th {\n",
       "        vertical-align: top;\n",
       "    }\n",
       "\n",
       "    .dataframe thead th {\n",
       "        text-align: right;\n",
       "    }\n",
       "</style>\n",
       "<table border=\"1\" class=\"dataframe\">\n",
       "  <thead>\n",
       "    <tr style=\"text-align: right;\">\n",
       "      <th></th>\n",
       "      <th>cement</th>\n",
       "      <th>slag</th>\n",
       "      <th>flyash</th>\n",
       "      <th>water</th>\n",
       "      <th>superplasticizer</th>\n",
       "      <th>coarseaggregate</th>\n",
       "      <th>fineaggregate</th>\n",
       "      <th>age</th>\n",
       "    </tr>\n",
       "  </thead>\n",
       "  <tbody>\n",
       "    <tr>\n",
       "      <th>0</th>\n",
       "      <td>540.0</td>\n",
       "      <td>0.0</td>\n",
       "      <td>0.0</td>\n",
       "      <td>162.0</td>\n",
       "      <td>2.5</td>\n",
       "      <td>1040.0</td>\n",
       "      <td>676.0</td>\n",
       "      <td>28</td>\n",
       "    </tr>\n",
       "    <tr>\n",
       "      <th>1</th>\n",
       "      <td>540.0</td>\n",
       "      <td>0.0</td>\n",
       "      <td>0.0</td>\n",
       "      <td>162.0</td>\n",
       "      <td>2.5</td>\n",
       "      <td>1055.0</td>\n",
       "      <td>676.0</td>\n",
       "      <td>28</td>\n",
       "    </tr>\n",
       "    <tr>\n",
       "      <th>2</th>\n",
       "      <td>332.5</td>\n",
       "      <td>142.5</td>\n",
       "      <td>0.0</td>\n",
       "      <td>228.0</td>\n",
       "      <td>0.0</td>\n",
       "      <td>932.0</td>\n",
       "      <td>594.0</td>\n",
       "      <td>270</td>\n",
       "    </tr>\n",
       "    <tr>\n",
       "      <th>3</th>\n",
       "      <td>332.5</td>\n",
       "      <td>142.5</td>\n",
       "      <td>0.0</td>\n",
       "      <td>228.0</td>\n",
       "      <td>0.0</td>\n",
       "      <td>932.0</td>\n",
       "      <td>594.0</td>\n",
       "      <td>365</td>\n",
       "    </tr>\n",
       "    <tr>\n",
       "      <th>4</th>\n",
       "      <td>198.6</td>\n",
       "      <td>132.4</td>\n",
       "      <td>0.0</td>\n",
       "      <td>192.0</td>\n",
       "      <td>0.0</td>\n",
       "      <td>978.4</td>\n",
       "      <td>825.5</td>\n",
       "      <td>360</td>\n",
       "    </tr>\n",
       "    <tr>\n",
       "      <th>...</th>\n",
       "      <td>...</td>\n",
       "      <td>...</td>\n",
       "      <td>...</td>\n",
       "      <td>...</td>\n",
       "      <td>...</td>\n",
       "      <td>...</td>\n",
       "      <td>...</td>\n",
       "      <td>...</td>\n",
       "    </tr>\n",
       "    <tr>\n",
       "      <th>1025</th>\n",
       "      <td>276.4</td>\n",
       "      <td>116.0</td>\n",
       "      <td>90.3</td>\n",
       "      <td>179.6</td>\n",
       "      <td>8.9</td>\n",
       "      <td>870.1</td>\n",
       "      <td>768.3</td>\n",
       "      <td>28</td>\n",
       "    </tr>\n",
       "    <tr>\n",
       "      <th>1026</th>\n",
       "      <td>322.2</td>\n",
       "      <td>0.0</td>\n",
       "      <td>115.6</td>\n",
       "      <td>196.0</td>\n",
       "      <td>10.4</td>\n",
       "      <td>817.9</td>\n",
       "      <td>813.4</td>\n",
       "      <td>28</td>\n",
       "    </tr>\n",
       "    <tr>\n",
       "      <th>1027</th>\n",
       "      <td>148.5</td>\n",
       "      <td>139.4</td>\n",
       "      <td>108.6</td>\n",
       "      <td>192.7</td>\n",
       "      <td>6.1</td>\n",
       "      <td>892.4</td>\n",
       "      <td>780.0</td>\n",
       "      <td>28</td>\n",
       "    </tr>\n",
       "    <tr>\n",
       "      <th>1028</th>\n",
       "      <td>159.1</td>\n",
       "      <td>186.7</td>\n",
       "      <td>0.0</td>\n",
       "      <td>175.6</td>\n",
       "      <td>11.3</td>\n",
       "      <td>989.6</td>\n",
       "      <td>788.9</td>\n",
       "      <td>28</td>\n",
       "    </tr>\n",
       "    <tr>\n",
       "      <th>1029</th>\n",
       "      <td>260.9</td>\n",
       "      <td>100.5</td>\n",
       "      <td>78.3</td>\n",
       "      <td>200.6</td>\n",
       "      <td>8.6</td>\n",
       "      <td>864.5</td>\n",
       "      <td>761.5</td>\n",
       "      <td>28</td>\n",
       "    </tr>\n",
       "  </tbody>\n",
       "</table>\n",
       "<p>1030 rows × 8 columns</p>\n",
       "</div>"
      ],
      "text/plain": [
       "      cement   slag  flyash  water  superplasticizer  coarseaggregate  \\\n",
       "0      540.0    0.0     0.0  162.0               2.5           1040.0   \n",
       "1      540.0    0.0     0.0  162.0               2.5           1055.0   \n",
       "2      332.5  142.5     0.0  228.0               0.0            932.0   \n",
       "3      332.5  142.5     0.0  228.0               0.0            932.0   \n",
       "4      198.6  132.4     0.0  192.0               0.0            978.4   \n",
       "...      ...    ...     ...    ...               ...              ...   \n",
       "1025   276.4  116.0    90.3  179.6               8.9            870.1   \n",
       "1026   322.2    0.0   115.6  196.0              10.4            817.9   \n",
       "1027   148.5  139.4   108.6  192.7               6.1            892.4   \n",
       "1028   159.1  186.7     0.0  175.6              11.3            989.6   \n",
       "1029   260.9  100.5    78.3  200.6               8.6            864.5   \n",
       "\n",
       "      fineaggregate  age  \n",
       "0             676.0   28  \n",
       "1             676.0   28  \n",
       "2             594.0  270  \n",
       "3             594.0  365  \n",
       "4             825.5  360  \n",
       "...             ...  ...  \n",
       "1025          768.3   28  \n",
       "1026          813.4   28  \n",
       "1027          780.0   28  \n",
       "1028          788.9   28  \n",
       "1029          761.5   28  \n",
       "\n",
       "[1030 rows x 8 columns]"
      ]
     },
     "execution_count": 17,
     "metadata": {},
     "output_type": "execute_result"
    }
   ],
   "source": [
    "X"
   ]
  },
  {
   "cell_type": "code",
   "execution_count": 24,
   "metadata": {},
   "outputs": [],
   "source": [
    "from sklearn.model_selection import train_test_split"
   ]
  },
  {
   "cell_type": "code",
   "execution_count": 26,
   "metadata": {},
   "outputs": [],
   "source": [
    "X_train, X_test, y_train, y_test = train_test_split(X,y,test_size = 0.2)"
   ]
  },
  {
   "cell_type": "code",
   "execution_count": 27,
   "metadata": {},
   "outputs": [],
   "source": [
    "from sklearn.linear_model import LinearRegression\n",
    "LR = LinearRegression()"
   ]
  },
  {
   "cell_type": "code",
   "execution_count": 28,
   "metadata": {},
   "outputs": [],
   "source": [
    "# train the model"
   ]
  },
  {
   "cell_type": "code",
   "execution_count": 29,
   "metadata": {},
   "outputs": [
    {
     "data": {
      "text/plain": [
       "LinearRegression()"
      ]
     },
     "execution_count": 29,
     "metadata": {},
     "output_type": "execute_result"
    }
   ],
   "source": [
    "LR.fit(X_train,y_train)"
   ]
  },
  {
   "cell_type": "code",
   "execution_count": 30,
   "metadata": {},
   "outputs": [
    {
     "data": {
      "text/plain": [
       "array([28.91701531, 49.43296125, 23.43722845, 27.89994908, 46.64750999,\n",
       "       31.74892949, 27.24022395, 26.13710394, 60.80714955, 22.09916332,\n",
       "       46.38676955, 19.80359585, 19.99941866, 35.22837333, 34.86321135,\n",
       "       31.5243478 , 54.93003436, 58.07767558, 22.84091135, 31.80813468,\n",
       "       16.18267955, 50.80045772, 49.13911292, 23.24310414, 57.31523467,\n",
       "       50.35690186, 57.70225851, 31.85490797, 59.72379135, 23.54034226,\n",
       "       54.24575937, 51.01257987, 34.91793181, 20.5467178 , 30.10515872,\n",
       "       52.10626686, 23.43694234, 22.08288737, 33.35817647, 13.84500809,\n",
       "       44.02290827, 61.19634848, 34.9422841 , 34.18416057, 27.6116938 ,\n",
       "       26.48793279, 41.55320602, 33.35483105, 32.49940641, 15.27981617,\n",
       "       37.36328542, 18.19569477, 38.39754952, 30.83538364, 35.46910718,\n",
       "       32.41941809, 18.83827515, 44.67317979, 15.48662919, 53.52262588,\n",
       "       19.73046871, 57.98060278, 12.13603128, 55.3096168 , 36.12705519,\n",
       "       30.23991338, 54.33209324, 55.37359023, 23.8991819 , 11.4817894 ,\n",
       "       25.62384371, 21.16694343, 16.97257633, 37.13619655, 34.46066913,\n",
       "       51.63352055, 35.31378827, 32.41030125, 35.70047504, 13.40145223,\n",
       "       34.55420349, 40.88132069, 51.38541328, 25.21410846, 35.62073619,\n",
       "       16.31711524, 24.53682054, 40.37522062, 38.07339631, 20.67695166,\n",
       "       51.12222497, 34.35163571, 51.8089481 , 47.78008031, 46.99936305,\n",
       "       31.83503557, 19.75271271, 33.71378919, 62.35032204, 38.66178604,\n",
       "       60.74317612, 37.31187851, 57.63828508, 19.90037883, 35.78444397,\n",
       "       54.50730705, 52.24400397, 36.43082873, 49.93222146, 39.21808071,\n",
       "       19.74480048, 58.74763438, 60.02173993, 56.81897261, 22.22396289,\n",
       "       49.15052846, 31.55171423, 60.55421052, 66.35203991, 31.64738692,\n",
       "       31.85072533, 51.10548689, 43.5079064 , 54.86652058, 57.33057286,\n",
       "       32.90795762, 18.42809533, 61.19634848, 28.18557138, 33.37149707,\n",
       "       37.46291198, 23.98870228, 39.0153575 , 42.39030818, 14.29346318,\n",
       "       30.53509501, 30.81998229, 31.22814752, 54.21034363, 31.81815771,\n",
       "       57.44997716, 22.52493686, 53.43349647, 54.5881806 , 37.71450825,\n",
       "       26.61991637, 40.01509169, 67.041149  , 30.20770254, 40.32354194,\n",
       "       48.12778417, 37.55180492, 24.15574946, 26.67900544, 42.90096582,\n",
       "       33.76134275, 51.18996469, 56.91684889, 50.7507389 , 57.31523467,\n",
       "       60.11065466, 33.92094868, 54.14462474, 58.66223593, 29.80306658,\n",
       "       60.74317612, 21.3104555 , 27.56164093, 33.79838691, 26.6452333 ,\n",
       "       64.68826336, 18.48665811, 24.72021939, 52.12785033, 13.94393593,\n",
       "       21.05826206, 30.61330939, 32.99015207, 26.34903302, 37.23504423,\n",
       "       35.1961924 , 35.09171026, 35.28643053, 17.06568732, 64.8579526 ,\n",
       "       34.94467802, 53.12912601, 38.07392552, 48.63152695, 38.10909654,\n",
       "       26.35194982, 51.43811948, 46.81044464, 51.43811948, 18.21882982,\n",
       "       41.27424911, 50.55531075, 44.67028354, 47.04963466, 52.20056039,\n",
       "       49.48866559, 47.72268792, 16.60747978, 34.9734291 , 67.63066217,\n",
       "       15.36475521])"
      ]
     },
     "execution_count": 30,
     "metadata": {},
     "output_type": "execute_result"
    }
   ],
   "source": [
    "LR.predict(X_test)"
   ]
  },
  {
   "cell_type": "code",
   "execution_count": 31,
   "metadata": {},
   "outputs": [
    {
     "data": {
      "text/plain": [
       "1028    32.77\n",
       "94      42.80\n",
       "11      28.02\n",
       "560     25.75\n",
       "818     55.94\n",
       "        ...  \n",
       "382     64.02\n",
       "943     12.18\n",
       "1022    41.54\n",
       "6       43.70\n",
       "808     11.47\n",
       "Name: csMPa, Length: 206, dtype: float64"
      ]
     },
     "execution_count": 31,
     "metadata": {},
     "output_type": "execute_result"
    }
   ],
   "source": [
    "y_test"
   ]
  },
  {
   "cell_type": "code",
   "execution_count": 32,
   "metadata": {},
   "outputs": [
    {
     "data": {
      "text/plain": [
       "0.6431623071445661"
      ]
     },
     "execution_count": 32,
     "metadata": {},
     "output_type": "execute_result"
    }
   ],
   "source": [
    "#checking the accuracy\n",
    "LR.score(X_test,y_test)"
   ]
  },
  {
   "cell_type": "code",
   "execution_count": null,
   "metadata": {},
   "outputs": [],
   "source": []
  }
 ],
 "metadata": {
  "kernelspec": {
   "display_name": "Python 3 (ipykernel)",
   "language": "python",
   "name": "python3"
  },
  "language_info": {
   "codemirror_mode": {
    "name": "ipython",
    "version": 3
   },
   "file_extension": ".py",
   "mimetype": "text/x-python",
   "name": "python",
   "nbconvert_exporter": "python",
   "pygments_lexer": "ipython3",
   "version": "3.7.9"
  }
 },
 "nbformat": 4,
 "nbformat_minor": 1
}
